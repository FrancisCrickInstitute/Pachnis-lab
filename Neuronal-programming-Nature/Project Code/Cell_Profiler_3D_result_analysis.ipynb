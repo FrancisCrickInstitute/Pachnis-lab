{
 "cells": [
  {
   "cell_type": "markdown",
   "metadata": {},
   "source": [
    "## Data Grouping for SIGNS Pipeline:\n",
    "### The Francis Crick Institute, April 2021\n",
    "#### This script will allow group variables that are extracted from images in CellProfiler by the tracked nucleus id.  \n",
    "##### CellProfiler data is exported as a speadsheet with each nuclei in a seperate row for each image frame, thus if a nuclei is present in 10 images, it will have ten rows in the spreadsheet, each with a different id, but THE SAME tracked nucleus id.  This script groups by tracked nucleus id."
   ]
  },
  {
   "cell_type": "markdown",
   "metadata": {},
   "source": [
    "## Load the needed packages"
   ]
  },
  {
   "cell_type": "code",
   "execution_count": null,
   "metadata": {},
   "outputs": [],
   "source": [
    "import pandas as pd\n",
    "import os"
   ]
  },
  {
   "cell_type": "markdown",
   "metadata": {},
   "source": [
    "### Specify the folder where the CellProfiler output files are located, and where to save the result"
   ]
  },
  {
   "cell_type": "code",
   "execution_count": null,
   "metadata": {},
   "outputs": [],
   "source": [
    "#sel path is the path to the folder where the CellProfiler output files are\n",
    "selpath = 'C:\\\\Users\\\\username\\\\Documents\\\\Projects\\\\Results from CellProfiler\\\\'\n",
    "\n",
    "#change the filenames to the approrpriate file for your data\n",
    "Filename_data_filename = 'MyExpt_Image.csv'  #makes a path for the csv file that has the filenames in it\n",
    "Tracking_data_filename = 'MyExpt_Cells_Primary_objects.csv' #makes a path for the csv file that has the cell primary object data in it\n",
    "Spots_data_filename = 'MyExpt_SpotsInCells_merged.csv' #makes a path for the csv file that has the merged spot data, including intesnity in it\n",
    "\n",
    "\n",
    "#the Outpath is the path to the folder where you want to save the data\n",
    "## Outfile_name is the filename you wish to use for the results.  Important! Keep the .xlsx extension for Excel\n",
    "Outpath = 'C:\\\\Users\\\\username\\\\Documents\\\\Projects\\\\Results from CellProfiler\\\\'\n",
    "Outfile_name = 'Output_Jupyter.xlsx'"
   ]
  },
  {
   "cell_type": "code",
   "execution_count": null,
   "metadata": {},
   "outputs": [],
   "source": [
    "#look in the right path forthe data\n",
    "Filename_data_filename = os.path.join(selpath,Filename_data_filename)  #makes a path for the csv file that has the filenames in it\n",
    "Tracking_data_filename = os.path.join(selpath,Tracking_data_filename) #makes a path for the csv file that has the cell primary object data in it\n",
    "Spots_data_filename = os.path.join(selpath,Spots_data_filename) #makes a path for the csv file that has the merged spot data, including intesnity in it\n"
   ]
  },
  {
   "cell_type": "markdown",
   "metadata": {},
   "source": [
    "## Read in tables from the csv files"
   ]
  },
  {
   "cell_type": "code",
   "execution_count": null,
   "metadata": {},
   "outputs": [],
   "source": [
    "## Read in tables from the csv files\n",
    "Filename_table = pd.read_csv(Filename_data_filename, 'Delimiter', ',',skip_blank_lines=False) #read in the data for the filenames\n",
    "Tracking_table = pd.read_csv(Tracking_data_filename,'Delimiter', ',',skip_blank_lines=False) #read in the data for the cell primary objects\n",
    "Spots_table = pd.read_csv(Spots_data_filename); #read in the data for the merged spots and their intensities"
   ]
  },
  {
   "cell_type": "code",
   "execution_count": null,
   "metadata": {},
   "outputs": [],
   "source": [
    "#Just view the filenames\n",
    "Filename_table"
   ]
  },
  {
   "cell_type": "markdown",
   "metadata": {},
   "source": [
    "# Construct a File_table dataframe"
   ]
  },
  {
   "cell_type": "code",
   "execution_count": null,
   "metadata": {},
   "outputs": [],
   "source": [
    "#This is a bit redundant, but ported from Matlab, where it was used to convert table2array\n",
    "#'ImageNumber'    #read in the image numbers from the Cell Profiler Spreadsheet. \n",
    "#'FileName_Cells' #read in the file name of the Cells Hu Channel from the CellProfiler Spreadsheet, \n",
    "#'FileName_Spots' #read in the file name of the RNAScope channel from the CellProfiler spreadsheet\n",
    "\n",
    "data = {'ImageNumber':Filename_table.ImageNumber, 'CellsFile':Filename_table.FileName_Cells, 'SpotsFile':Filename_table.FileName_Spots}\n",
    "File_table = pd.DataFrame(data, columns=['ImageNumber', 'CellsFile','SpotsFile'])\n",
    "File_table"
   ]
  },
  {
   "cell_type": "code",
   "execution_count": null,
   "metadata": {},
   "outputs": [],
   "source": [
    "Tracking_ids = Tracking_table.TrackObjects_Label_50\n",
    "Tracking_ids = list(Tracking_ids.unique()) #get a list of the tracking IDs"
   ]
  },
  {
   "cell_type": "markdown",
   "metadata": {},
   "source": [
    "## Define functions: \n",
    "### subset_by_track_id goes through the list of Tracking_ids and finds each image and object that correspond to that tracking id\n",
    "\n",
    "### intensity_by_tracked_object sums all the spot intensity for the spots that are present in the objects found in subset_by_track_id for each tracking id\n",
    "\n",
    "Note: each tracking ID corresponds to a single nucleus."
   ]
  },
  {
   "cell_type": "code",
   "execution_count": null,
   "metadata": {},
   "outputs": [],
   "source": [
    "def subset_by_track_id(Tracking_table, track_id):\n",
    "    #Return a list of (Image Numbers, ObjectNumbers) that correspond to a specific track ID, for later summing\n",
    "    print('Processing Tracked object:', track_id)\n",
    "    \n",
    "    SubTracking_Table=Tracking_table[Tracking_table.TrackObjects_Label_50==track_id] #Select out of the table only the rows for the tracked object\n",
    "    ImageNumbers = list(SubTracking_Table['ImageNumber']) #get the image numbers where the tracked object occured\n",
    "    ObjectNumbers = list(SubTracking_Table['ObjectNumber']) #get the object number in those image numbers\n",
    "    IONumbers = list(zip(ImageNumbers, ObjectNumbers))\n",
    "    \n",
    "    return IONumbers"
   ]
  },
  {
   "cell_type": "code",
   "execution_count": null,
   "metadata": {},
   "outputs": [],
   "source": [
    "def intensity_by_tracked_object(Spots_Table, IOList):\n",
    "    ###Run through all the image planes and object for a single tracked object, and return the summed intensity\n",
    "    Total_intensity=0\n",
    "    for cell in IOList:\n",
    "        Spots_Table_image = Spots_table[Spots_table.ImageNumber==cell[0]]\n",
    "        \n",
    "        if not Spots_Table_image[Spots_Table_image.ObjectNumber==cell[1]].shape[0]==0:\n",
    "            Spots_Table_image_object = Spots_Table_image[Spots_Table_image.ObjectNumber==cell[1]]\n",
    "            Intensity = float(Spots_Table_image_object.Intensity_IntegratedIntensity_Spots_eroded)\n",
    "            Total_intensity = Total_intensity+Intensity\n",
    "        \n",
    "        else:\n",
    "            Total_intensity = Total_intensity+0  #there's a quirk in how CellProfiler gave the data in the spreadsheet.  \n",
    "                                                #it is possible for an object to exist and have spots in one image but another.\n",
    "                                                #if that happens, there won't be a row present in the spots table where the \n",
    "                                                #image doesn't have any spots detected.  In the real world, this would correspond\n",
    "                                                #to the top or bottom of a nucleus, where there might not be any spots detected.\n",
    "                                                #This if-else checks if there are spots, and if not, adds zero.\n",
    "    \n",
    "    return Total_intensity"
   ]
  },
  {
   "cell_type": "code",
   "execution_count": null,
   "metadata": {},
   "outputs": [],
   "source": [
    "Intensity_by_cell = []\n",
    "cell_number = []\n",
    "for j in Tracking_ids:\n",
    "    IONumbers = subset_by_track_id(Tracking_table, j)\n",
    "    \n",
    "    Total_intensity = intensity_by_tracked_object(Spots_table, IONumbers)\n",
    "    \n",
    "    Intensity_by_cell.append(Total_intensity)\n",
    "    cell_number.append(j)"
   ]
  },
  {
   "cell_type": "code",
   "execution_count": null,
   "metadata": {},
   "outputs": [],
   "source": [
    "#Write out the results to the excel file specified in the beginning\n",
    "export_data = {'ID':cell_number, 'Total_Intensity':Intensity_by_cell}\n",
    "Export_File_table = pd.DataFrame(export_data, columns=['ID', 'Total_Intensity'])\n",
    "Export_File_table.to_excel(os.path.join(Outpath, Outfile_name), index=False)\n",
    "Export_File_table"
   ]
  },
  {
   "cell_type": "code",
   "execution_count": null,
   "metadata": {},
   "outputs": [],
   "source": []
  }
 ],
 "metadata": {
  "kernelspec": {
   "display_name": "Python 3",
   "language": "python",
   "name": "python3"
  },
  "language_info": {
   "codemirror_mode": {
    "name": "ipython",
    "version": 3
   },
   "file_extension": ".py",
   "mimetype": "text/x-python",
   "name": "python",
   "nbconvert_exporter": "python",
   "pygments_lexer": "ipython3",
   "version": "3.7.3"
  }
 },
 "nbformat": 4,
 "nbformat_minor": 4
}
